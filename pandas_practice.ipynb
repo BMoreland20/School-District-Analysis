{
 "cells": [
  {
   "cell_type": "code",
   "execution_count": 30,
   "metadata": {},
   "outputs": [
    {
     "data": {
      "text/plain": [
       "Student ID       39170\n",
       "student_name     39170\n",
       "gender           39170\n",
       "grade            39170\n",
       "school_name      39170\n",
       "reading_score    39170\n",
       "math_score       39170\n",
       "dtype: int64"
      ]
     },
     "execution_count": 30,
     "metadata": {},
     "output_type": "execute_result"
    }
   ],
   "source": [
    "import pandas\n",
    "import os\n",
    "import csv\n",
    "\n",
    "# Files to load\n",
    "school_data_to_load = os.path.join(\"Resources\", \"schools_complete.csv\")\n",
    "student_data_to_load = os.path.join(\"Resources\", \"students_complete.csv\")\n",
    "\n",
    "# Read the school data file and store it in a Pandas DataFrame.\n",
    "school_data_df = pandas.read_csv(school_data_to_load)\n",
    "school_data_df\n",
    "\n",
    "# Read the student data file and store it in a Pandas DataFrame.\n",
    "student_data_df = pandas.read_csv(student_data_to_load)\n",
    "student_data_df.head()\n",
    "\n",
    "# Determine if there are any missing values in the school data.\n",
    "school_data_df.count()\n",
    "\n",
    "# Determine if there are any missing values in the student data.\n",
    "student_data_df.count()\n",
    "\n",
    "# Determine if there are any missing values in the school data.\n",
    "school_data_df.isnull()\n",
    "\n",
    "# Determine if there are any missing values in the student data.\n",
    "student_data_df.isnull()\n",
    "\n",
    "# Determine if there are any missing values in the student data.\n",
    "student_data_df.isnull().sum()\n",
    "\n",
    "# Determine if there are not any missing values in the school data.\n",
    "school_data_df.notnull()\n",
    "\n",
    "# Determine if there are not any missing values in the student data.\n",
    "student_data_df.notnull().sum()"
   ]
  },
  {
   "cell_type": "code",
   "execution_count": null,
   "metadata": {},
   "outputs": [],
   "source": []
  }
 ],
 "metadata": {
  "interpreter": {
   "hash": "b3ba2566441a7c06988d0923437866b63cedc61552a5af99d1f4fb67d367b25f"
  },
  "kernelspec": {
   "display_name": "Python 3.9.7 ('base')",
   "language": "python",
   "name": "python3"
  },
  "language_info": {
   "codemirror_mode": {
    "name": "ipython",
    "version": 3
   },
   "file_extension": ".py",
   "mimetype": "text/x-python",
   "name": "python",
   "nbconvert_exporter": "python",
   "pygments_lexer": "ipython3",
   "version": "3.9.7"
  },
  "orig_nbformat": 4
 },
 "nbformat": 4,
 "nbformat_minor": 2
}
