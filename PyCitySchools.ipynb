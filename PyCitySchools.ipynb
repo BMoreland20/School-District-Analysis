{
 "cells": [
  {
   "cell_type": "code",
   "execution_count": 7,
   "metadata": {},
   "outputs": [
    {
     "data": {
      "text/plain": [
       "24649428"
      ]
     },
     "execution_count": 7,
     "metadata": {},
     "output_type": "execute_result"
    }
   ],
   "source": [
    "import pandas\n",
    "import os\n",
    "import csv\n",
    "\n",
    "# Files to load\n",
    "school_data_to_load = os.path.join(\"Resources\", \"schools_complete.csv\")\n",
    "student_data_to_load = os.path.join(\"Resources\", \"clean_students_complete.csv\")\n",
    "missing_data_to_load = os.path.join(\"Resources\", \"missing_grades.csv\")\n",
    "\n",
    "# Read the school data file and store it in a Pandas DataFrame.\n",
    "school_data_df = pandas.read_csv(school_data_to_load)\n",
    "school_data_df\n",
    "\n",
    "# Read the student data file and store it in a Pandas DataFrame.\n",
    "student_data_df = pandas.read_csv(student_data_to_load)\n",
    "student_data_df.head()\n",
    "\n",
    "# Determine if there are any missing values in the school data.\n",
    "school_data_df.count()\n",
    "\n",
    "# Determine if there are any missing values in the student data.\n",
    "student_data_df.count()\n",
    "\n",
    "# Determine if there are any missing values in the school data.\n",
    "school_data_df.isnull()\n",
    "\n",
    "# Determine if there are any missing values in the student data.\n",
    "student_data_df.isnull()\n",
    "\n",
    "# Determine if there are any missing values in the student data.\n",
    "student_data_df.isnull().sum()\n",
    "\n",
    "# Determine if there are not any missing values in the school data.\n",
    "school_data_df.notnull()\n",
    "\n",
    "# Determine if there are not any missing values in the student data.\n",
    "student_data_df.notnull().sum()\n",
    "\n",
    "# Read the CSV into a DataFrame\n",
    "missing_grade_df = pandas.read_csv(missing_data_to_load)\n",
    "missing_grade_df\n",
    "\n",
    "# Fill in the empty rows with \"85\".\n",
    "missing_grade_df.fillna(85)\n",
    "\n",
    "# Determine data types for the school DataFrame.\n",
    "school_data_df.dtypes\n",
    "\n",
    "# Determine data types for the student DataFrame.\n",
    "student_data_df.dtypes\n",
    "\n",
    "# Combine the data into a single dataset.\n",
    "school_data_complete_df = pandas.merge(student_data_df, school_data_df, on=[\"school_name\", \"school_name\"])\n",
    "school_data_complete_df.head()\n",
    "\n",
    "# Get the total number of students.\n",
    "school_data_complete_df[\"Student ID\"].count()\n",
    "\n",
    "# Calculate the total number of schools.\n",
    "school_count = school_data_df[\"school_name\"].count()\n",
    "school_count\n",
    "\n",
    "# Calculate the total number of schools\n",
    "school_count_2 = school_data_complete_df[\"school_name\"].unique()\n",
    "school_count_2\n",
    "\n",
    "# Calculate the total budget.\n",
    "total_budget = school_data_df[\"budget\"].sum()\n",
    "total_budget"
   ]
  }
 ],
 "metadata": {
  "interpreter": {
   "hash": "b3ba2566441a7c06988d0923437866b63cedc61552a5af99d1f4fb67d367b25f"
  },
  "kernelspec": {
   "display_name": "Python 3.9.7 ('base')",
   "language": "python",
   "name": "python3"
  },
  "language_info": {
   "codemirror_mode": {
    "name": "ipython",
    "version": 3
   },
   "file_extension": ".py",
   "mimetype": "text/x-python",
   "name": "python",
   "nbconvert_exporter": "python",
   "pygments_lexer": "ipython3",
   "version": "3.9.7"
  },
  "orig_nbformat": 4
 },
 "nbformat": 4,
 "nbformat_minor": 2
}
